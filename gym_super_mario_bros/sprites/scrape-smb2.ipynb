{
 "cells": [
  {
   "cell_type": "markdown",
   "metadata": {},
   "source": [
    "# http://www.nesmaps.com/maps/SuperMarioBrothers2j/sprites/SMB2LostLevelsSprites.html\n",
    "\n",
    "> Most of the sprites for this game are the same as the Sprites from Super Mario Bros.\n",
    "Only the sprites that are different from the first Super Mario Bros. are shown here."
   ]
  },
  {
   "cell_type": "code",
   "execution_count": 1,
   "metadata": {},
   "outputs": [],
   "source": [
    "import os\n",
    "from requests import get\n",
    "from bs4 import BeautifulSoup\n",
    "from tqdm import tqdm"
   ]
  },
  {
   "cell_type": "code",
   "execution_count": 2,
   "metadata": {},
   "outputs": [
    {
     "data": {
      "text/plain": [
       "'http://www.nesmaps.com/maps/SuperMarioBrothers2j/sprites/SMB2LostLevelsSprites.html'"
      ]
     },
     "execution_count": 2,
     "metadata": {},
     "output_type": "execute_result"
    }
   ],
   "source": [
    "url = 'http://www.nesmaps.com/maps/SuperMarioBrothers2j/sprites/SMB2LostLevelsSprites.html'\n",
    "url"
   ]
  },
  {
   "cell_type": "code",
   "execution_count": 3,
   "metadata": {},
   "outputs": [],
   "source": [
    "def get_image_links(url: str) -> list:\n",
    "    \"\"\"\n",
    "    Return images from the given URL.\n",
    "\n",
    "    Args:\n",
    "        url: the page to load image links from\n",
    "\n",
    "    Returns:\n",
    "        a list of string URLs to images on the page\n",
    "\n",
    "    \"\"\"\n",
    "    # determine the root of the URL\n",
    "    root = '/'.join(url.split('/')[:-1])\n",
    "    # query the page and parse it as HTML\n",
    "    soup = BeautifulSoup(get(url).text, 'html.parser')\n",
    "    # extract all the links to images on the page\n",
    "    return ['{}/{}'.format(root, img['src']) for img in soup.find_all('img')] "
   ]
  },
  {
   "cell_type": "code",
   "execution_count": 4,
   "metadata": {},
   "outputs": [],
   "source": [
    "def query_save(image_url: str, image_dir: str) -> None:\n",
    "    \"\"\"\n",
    "    Fetch an image from the given URL and save it in a directory.\n",
    "\n",
    "    Args:\n",
    "        image_url: the url of the image to fetch\n",
    "        image_dir: the name of the directory to store the image in\n",
    "\n",
    "    Returns: \n",
    "        None\n",
    "\n",
    "    \"\"\"\n",
    "    # make the build directory if it doesn't exist\n",
    "    if not os.path.exists(image_dir):\n",
    "        os.makedirs(image_dir)\n",
    "    # fetch the raw image data\n",
    "    image = get(image_url).content\n",
    "    # write the bytes to disk\n",
    "    filename = '{}/{}'.format(image_dir, image_url.split('/')[-1])\n",
    "    with open(filename, 'wb') as img_file:\n",
    "        img_file.write(image)"
   ]
  },
  {
   "cell_type": "code",
   "execution_count": 5,
   "metadata": {},
   "outputs": [],
   "source": [
    "def save_all_images(url: str, output_dir: str) -> None:\n",
    "    \"\"\"\n",
    "    Save all the images route at the given route to the output directory.\n",
    "\n",
    "    Args:\n",
    "        url: the base page to fetch the image URLs from\n",
    "        output_dir: the base directory to save images to\n",
    "\n",
    "    Returns:\n",
    "        None\n",
    "\n",
    "    \"\"\"\n",
    "    # fetch all the links to the images\n",
    "    image_urls = get_image_links(url)\n",
    "    # fetch all the images and save them to disk\n",
    "    progress = tqdm(image_urls, unit='image')\n",
    "    for image_url in progress:\n",
    "        progress.set_postfix(image_url=image_url)\n",
    "        # query the image and save it in the output directory\n",
    "        query_save(image_url, output_dir)\n",
    "    progress.close()"
   ]
  },
  {
   "cell_type": "code",
   "execution_count": 6,
   "metadata": {},
   "outputs": [
    {
     "name": "stderr",
     "output_type": "stream",
     "text": [
      "100%|██████████| 41/41 [00:11<00:00,  3.68image/s, image_url=http://www.nesmaps.com/maps/SuperMarioBrothers2j/sprites/http://pixel.quantserve.com/pixel/p-50t3r9Tej-YZg.gif]\n"
     ]
    }
   ],
   "source": [
    "save_all_images(url, 'img/SMB2')"
   ]
  },
  {
   "cell_type": "markdown",
   "metadata": {},
   "source": [
    " "
   ]
  }
 ],
 "metadata": {
  "kernelspec": {
   "display_name": "Python 3",
   "language": "python",
   "name": "python3"
  },
  "language_info": {
   "codemirror_mode": {
    "name": "ipython",
    "version": 3
   },
   "file_extension": ".py",
   "mimetype": "text/x-python",
   "name": "python",
   "nbconvert_exporter": "python",
   "pygments_lexer": "ipython3",
   "version": "3.6.4"
  }
 },
 "nbformat": 4,
 "nbformat_minor": 2
}
