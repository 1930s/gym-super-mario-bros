{
 "cells": [
  {
   "cell_type": "markdown",
   "metadata": {},
   "source": [
    "# http://www.videogamesprites.net/SuperMarioBros1/"
   ]
  },
  {
   "cell_type": "code",
   "execution_count": 1,
   "metadata": {},
   "outputs": [],
   "source": [
    "import os\n",
    "from requests import get\n",
    "from bs4 import BeautifulSoup\n",
    "from tqdm import tqdm"
   ]
  },
  {
   "cell_type": "code",
   "execution_count": 2,
   "metadata": {},
   "outputs": [
    {
     "data": {
      "text/plain": [
       "'http://www.videogamesprites.net/SuperMarioBros1'"
      ]
     },
     "execution_count": 2,
     "metadata": {},
     "output_type": "execute_result"
    }
   ],
   "source": [
    "root = 'http://www.videogamesprites.net/SuperMarioBros1'\n",
    "root"
   ]
  },
  {
   "cell_type": "code",
   "execution_count": 3,
   "metadata": {},
   "outputs": [],
   "source": [
    "def get_image_links(route: str) -> list:\n",
    "    \"\"\"\n",
    "    Return images from the given route at the root URL.\n",
    "\n",
    "    Args:\n",
    "        route: the route to the index pages from root\n",
    "\n",
    "    Returns:\n",
    "        a list of string URLs to images on root/route\n",
    "\n",
    "    \"\"\"\n",
    "    # generate the index page from the route\n",
    "    index = '{}/{}'.format(root, route)\n",
    "    # generate the endpoint for images from the index\n",
    "    endpoint = '/'.join(index.split('/')[:-1])\n",
    "    # query the page and parse it as HTML\n",
    "    soup = BeautifulSoup(get(index).text, 'html.parser')\n",
    "    # extract all the links to images on the page\n",
    "    return ['{}/{}'.format(endpoint, img['src']) for img in soup.find_all('img')] "
   ]
  },
  {
   "cell_type": "code",
   "execution_count": 4,
   "metadata": {},
   "outputs": [],
   "source": [
    "def query_save(image_url: str, image_dir: str) -> None:\n",
    "    \"\"\"\n",
    "    Fetch an image from the given URL and save it in a directory.\n",
    "\n",
    "    Args:\n",
    "        image_url: the url of the image to fetch\n",
    "        image_dir: the name of the directory to store the image in\n",
    "\n",
    "    Returns: \n",
    "        None\n",
    "\n",
    "    \"\"\"\n",
    "    # make the build directory if it doesn't exist\n",
    "    if not os.path.exists(image_dir):\n",
    "        os.makedirs(image_dir)\n",
    "    # fetch the raw image data\n",
    "    image = get(image_url).content\n",
    "    # write the bytes to disk\n",
    "    with open('{}/{}'.format(image_dir, image_url.split('/')[-1]), 'wb') as img_file:\n",
    "        img_file.write(image)"
   ]
  },
  {
   "cell_type": "code",
   "execution_count": 5,
   "metadata": {},
   "outputs": [],
   "source": [
    "def save_all_images(route: str, output_dir: str) -> None:\n",
    "    \"\"\"\n",
    "    Save all the images route at the given route to the output directory.\n",
    "\n",
    "    Args:\n",
    "        route: the route to fetch the image URLs from\n",
    "        output_dir: the base directory to save images to\n",
    "\n",
    "    Returns:\n",
    "        None\n",
    "\n",
    "    \"\"\"\n",
    "    # fetch all the links to the images\n",
    "    image_urls = get_image_links(route)\n",
    "    # generate the directory to save images to\n",
    "    output_dir = '/'.join([output_dir] + route.split('/')[:-1])\n",
    "    # fetch all the images and save them to disk\n",
    "    progress = tqdm(image_urls, unit='image')\n",
    "    for image_url in progress:\n",
    "        progress.set_postfix(image_url=image_url)\n",
    "        # query the image and save it in the output directory\n",
    "        query_save(image_url, output_dir)\n",
    "    progress.close()"
   ]
  },
  {
   "cell_type": "code",
   "execution_count": 6,
   "metadata": {},
   "outputs": [],
   "source": [
    "pages = [\n",
    "    'Characters/Mario/index.html',\n",
    "    'Characters/Luigi/index.html',\n",
    "    'Characters/Other/index.html',\n",
    "    'Items/index.html',\n",
    "    'Scenery/index.html',\n",
    "    'Enemies/Overworld/index.html',\n",
    "    'Enemies/Underground/index.html',\n",
    "    'Enemies/Castle/index.html',\n",
    "]"
   ]
  },
  {
   "cell_type": "code",
   "execution_count": 7,
   "metadata": {},
   "outputs": [
    {
     "name": "stderr",
     "output_type": "stream",
     "text": [
      "100%|██████████| 44/44 [00:16<00:00,  2.62image/s, image_url=http://www.videogamesprites.net/SuperMarioBros1/Characters/Mario/Fiery Mario - Swim6.gif]   \n",
      "100%|██████████| 44/44 [00:15<00:00,  2.83image/s, image_url=http://www.videogamesprites.net/SuperMarioBros1/Characters/Luigi/Fiery Luigi - Swim6.gif]   \n",
      "100%|██████████| 2/2 [00:00<00:00,  2.78image/s, image_url=http://www.videogamesprites.net/SuperMarioBros1/Characters/Other/Princess Toadstool.gif]\n",
      "100%|██████████| 20/20 [00:05<00:00,  3.67image/s, image_url=http://www.videogamesprites.net/SuperMarioBros1/Items/Mushroom Cursor.gif]         \n",
      "100%|██████████| 20/20 [00:05<00:00,  3.47image/s, image_url=http://www.videogamesprites.net/SuperMarioBros1/Scenery/Giant Mushroom.gif]   \n",
      "100%|██████████| 25/25 [00:08<00:00,  3.02image/s, image_url=http://www.videogamesprites.net/SuperMarioBros1/Enemies/Overworld/Bullet Bill - Grey.gif]        \n",
      "100%|██████████| 8/8 [00:02<00:00,  3.39image/s, image_url=http://www.videogamesprites.net/SuperMarioBros1/Enemies/Underground/Buzzy Beetle - Blue - Shell.gif] \n",
      "100%|██████████| 15/15 [00:05<00:00,  2.79image/s, image_url=http://www.videogamesprites.net/SuperMarioBros1/Enemies/Castle/Bowser - Walk3.gif]               \n"
     ]
    }
   ],
   "source": [
    "for page in pages:\n",
    "    save_all_images(page, 'smb1')"
   ]
  },
  {
   "cell_type": "markdown",
   "metadata": {},
   "source": [
    " "
   ]
  }
 ],
 "metadata": {
  "kernelspec": {
   "display_name": "Python 3",
   "language": "python",
   "name": "python3"
  },
  "language_info": {
   "codemirror_mode": {
    "name": "ipython",
    "version": 3
   },
   "file_extension": ".py",
   "mimetype": "text/x-python",
   "name": "python",
   "nbconvert_exporter": "python",
   "pygments_lexer": "ipython3",
   "version": "3.6.4"
  }
 },
 "nbformat": 4,
 "nbformat_minor": 2
}
